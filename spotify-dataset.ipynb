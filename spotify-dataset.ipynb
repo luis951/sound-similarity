{
 "cells": [
  {
   "cell_type": "code",
   "execution_count": null,
   "metadata": {},
   "outputs": [],
   "source": [
    "import asyncio\n",
    "from playwright.async_api import async_playwright\n",
    "from bs4 import BeautifulSoup\n",
    "import json\n",
    "\n",
    "async def main():\n",
    "    async with async_playwright() as p:\n",
    "        browser = await p.chromium.launch(headless=False)\n",
    "        page = await browser.new_page()\n",
    "        # pages = [f'https://rateyourmusic.com/charts/top/album/all-time/{p}' for p in range(3,11)]\n",
    "        pages = ['https://rateyourmusic.com/charts/top/album/all-time/4']\n",
    "        album_info = []\n",
    "        for p in pages:\n",
    "            await page.goto(p)\n",
    "            await page.wait_for_load_state(\"load\")\n",
    "            for i in range(16):\n",
    "                await page.wait_for_timeout(500)\n",
    "                await page.keyboard.down(\"PageDown\")\n",
    "            pageText = await page.content()\n",
    "            soup = BeautifulSoup(pageText, 'html.parser')\n",
    "            \n",
    "            for album in soup.find_all('div', class_='page_charts_section_charts_item_info'):\n",
    "                title = album.find('a', class_='page_charts_section_charts_item_link release').text.strip()\n",
    "                artist = album.find('a', class_='artist').find('span', class_='ui_name_locale').text.strip()\n",
    "                spotify_link = album.find('a', attrs={'title':'Spotify'})['href']\n",
    "                primary_genre = album.find('div', class_='page_charts_section_charts_item_genres_primary').text.strip().split('\\n')\n",
    "                secondary_genre = album.find('div', class_='page_charts_section_charts_item_genres_secondary')\n",
    "                secondary_genre = secondary_genre.text.strip().split('\\n') if secondary_genre else []\n",
    "                descriptors = album.find('div', class_='page_charts_section_charts_item_genre_descriptors').text.strip().split('\\n')\n",
    "                info = {'title': title, 'artist': artist, 'spotify_link': spotify_link, 'primary_genre': primary_genre, 'secondary_genre': secondary_genre, 'descriptors': descriptors}\n",
    "                album_info.append(info)\n",
    "        print(album_info)\n",
    "        with open('./sound-creator/album_info.json', 'wr') as f:\n",
    "            album_info_r = json.load(f.read()) + album_info\n",
    "            print(album_info_r)\n",
    "            # json.dump(album_info, f)\n",
    "        await browser.close()\n",
    "\n",
    "loop = asyncio.get_event_loop()\n",
    "asyncio.set_event_loop(loop)\n",
    "loop.run_until_complete(main())"
   ]
  },
  {
   "cell_type": "code",
   "execution_count": 9,
   "metadata": {},
   "outputs": [],
   "source": [
    "from bs4 import BeautifulSoup\n",
    "import json\n",
    "import os, sys\n",
    "\n",
    "files = [f for f in os.listdir('./sound-creator/temp') if(f.endswith('.htm'))]\n",
    "# album_info = json.load(open('./sound-creator/album_info.json', 'r'))\n",
    "\n",
    "for filename in files:\n",
    "    genre = filename.replace('.htm', '').replace('Best albums of all time ', '')\n",
    "    album_info = []\n",
    "    content = open(f'./sound-creator/temp/{filename}', 'r').read()\n",
    "    soup = BeautifulSoup(content, 'html.parser')\n",
    "    for album in soup.find_all('div', class_='page_charts_section_charts_item_info'):\n",
    "        try:\n",
    "            title = album.find('a', class_='page_charts_section_charts_item_link release').text.strip()\n",
    "            artist = album.find('a', class_='artist').find('span', class_='ui_name_locale').text.strip()\n",
    "            spotify_link = album.find('a', attrs={'title':'Spotify'})['href']\n",
    "            \n",
    "            # primary_genre = album.find('div', class_='page_charts_section_charts_item_genres_primary').text.strip().split('\\n')\n",
    "            # secondary_genre = album.find('div', class_='page_charts_section_charts_item_genres_secondary')\n",
    "            # secondary_genre = secondary_genre.text.strip().split('\\n') if secondary_genre else []\n",
    "            info = {'title': title, 'artist': artist, 'spotify_link': spotify_link,\n",
    "                    # 'primary_genre': primary_genre, 'secondary_genre': secondary_genre\n",
    "                    }\n",
    "            album_info.append(info)\n",
    "        except:\n",
    "            pass\n",
    "    json.dump(album_info, open(f'./sound-creator/album_info2_{genre}.json', 'w'))\n",
    "# json.dump(album_info, open('./sound-creator/album_info2.json', 'w'))"
   ]
  },
  {
   "cell_type": "code",
   "execution_count": 1,
   "metadata": {},
   "outputs": [
    {
     "name": "stdout",
     "output_type": "stream",
     "text": [
      "./sound-creator/albums/Milton Nascimento/Geraes\n",
      "0 - Downloading Geraes by Milton Nascimento\n",
      "./sound-creator/albums/Grouper/Dragging a Dead Deer Up a Hill\n",
      "1 - Downloading Dragging a Dead Deer Up a Hill by Grouper\n",
      "./sound-creator/albums/Ichiko Aoba\n",
      "青葉市子/qp\n",
      "2 - Downloading qp by Ichiko Aoba\n",
      "青葉市子\n",
      "fail\n",
      "./sound-creator/albums/Elliott Smith/Roman Candle\n",
      "3 - Downloading Roman Candle by Elliott Smith\n",
      "./sound-creator/albums/John Fahey/Volume 6: Days Have Gone By\n",
      "4 - Downloading Volume 6: Days Have Gone By by John Fahey\n",
      "fail\n",
      "./sound-creator/albums/Phoebe Bridgers/Punisher\n",
      "5 - Downloading Punisher by Phoebe Bridgers\n",
      "./sound-creator/albums/John Fahey/America\n",
      "6 - Downloading America by John Fahey\n",
      "./sound-creator/albums/Adrianne Lenker/Bright Future\n",
      "7 - Downloading Bright Future by Adrianne Lenker\n",
      "./sound-creator/albums/Fleet Foxes/Fleet Foxes\n",
      "8 - Downloading Fleet Foxes by Fleet Foxes\n"
     ]
    },
    {
     "name": "stderr",
     "output_type": "stream",
     "text": [
      "ERROR: unable to download video data: HTTP Error 403: Forbidden\n",
      "ERROR: unable to download video data: HTTP Error 403: Forbidden\n"
     ]
    },
    {
     "name": "stdout",
     "output_type": "stream",
     "text": [
      "./sound-creator/albums/Milton Nascimento/Minas\n",
      "9 - Downloading Minas by Milton Nascimento\n",
      "./sound-creator/albums/The Mountain Goats/The Sunset Tree\n",
      "10 - Downloading The Sunset Tree by The Mountain Goats\n",
      "./sound-creator/albums/Nico/The Marble Index\n",
      "11 - Downloading The Marble Index by Nico\n",
      "./sound-creator/albums/Harmonium/Les cinq saisons\n",
      "12 - Downloading Les cinq saisons by Harmonium\n",
      "./sound-creator/albums/The Mountain Goats/Tallahassee\n",
      "13 - Downloading Tallahassee by The Mountain Goats\n",
      "./sound-creator/albums/Lamp/ランプ幻想 (Lamp Gensō)\n",
      "14 - Downloading ランプ幻想 (Lamp Gensō) by Lamp\n",
      "./sound-creator/albums/Zé Ramalho/A peleja do Diabo com o dono do céu\n",
      "15 - Downloading A peleja do Diabo com o dono do céu by Zé Ramalho\n",
      "./sound-creator/albums/Joni Mitchell/Ladies of the Canyon\n",
      "16 - Downloading Ladies of the Canyon by Joni Mitchell\n",
      "./sound-creator/albums/John Prine/John Prine\n",
      "17 - Downloading John Prine by John Prine\n",
      "./sound-creator/albums/Roy Harper/Stormcock\n",
      "18 - Downloading Stormcock by Roy Harper\n",
      "./sound-creator/albums/Linda Perhacs/Parallelograms\n",
      "19 - Downloading Parallelograms by Linda Perhacs\n",
      "./sound-creator/albums/Mount Eerie/Dawn: Winter Journal\n",
      "20 - Downloading Dawn: Winter Journal by Mount Eerie\n",
      "fail\n",
      "./sound-creator/albums/Tim Buckley/Happy Sad\n",
      "21 - Downloading Happy Sad by Tim Buckley\n",
      "./sound-creator/albums/Nature and Organisation/Beauty Reaps the Blood of Solitude\n",
      "22 - Downloading Beauty Reaps the Blood of Solitude by Nature and Organisation\n",
      "./sound-creator/albums/Zé Ramalho/Zé Ramalho\n",
      "23 - Downloading Zé Ramalho by Zé Ramalho\n",
      "./sound-creator/albums/Macha y El Bloque Depresivo/100% Lúcidos\n",
      "24 - Downloading 100% Lúcidos by Macha y El Bloque Depresivo\n",
      "./sound-creator/albums/Natural Snow Buildings/Night Coercion Into the Company of Witches\n",
      "25 - Downloading Night Coercion Into the Company of Witches by Natural Snow Buildings\n",
      "./sound-creator/albums/Leonard Cohen/New Skin for the Old Ceremony\n",
      "26 - Downloading New Skin for the Old Ceremony by Leonard Cohen\n",
      "./sound-creator/albums/Lula Côrtes &/Paêbirú\n",
      "27 - Downloading Paêbirú by Lula Côrtes &\n",
      "./sound-creator/albums/Jim Croce/You Don't Mess Around With Jim\n",
      "28 - Downloading You Don't Mess Around With Jim by Jim Croce\n",
      "./sound-creator/albums/Sun Kil Moon/Benji\n",
      "29 - Downloading Benji by Sun Kil Moon\n",
      "./sound-creator/albums/Bob Dylan/The Times They Are A-Changin'\n",
      "30 - Downloading The Times They Are A-Changin' by Bob Dylan\n",
      "./sound-creator/albums/Racionais MC's/Sobrevivendo no inferno\n",
      "0 - Downloading Sobrevivendo no inferno by Racionais MC's\n",
      "./sound-creator/albums/Three-6 Mafia/Mystic Stylez\n",
      "1 - Mystic Stylez by Three-6 Mafia already exists\n",
      "./sound-creator/albums/Danger Mouse &/Cheat Codes\n",
      "2 - Downloading Cheat Codes by Danger Mouse &\n"
     ]
    },
    {
     "name": "stderr",
     "output_type": "stream",
     "text": [
      "ERROR: unable to download video data: HTTP Error 403: Forbidden\n"
     ]
    },
    {
     "name": "stdout",
     "output_type": "stream",
     "text": [
      "./sound-creator/albums/OutKast/Stankonia\n",
      "3 - Downloading Stankonia by OutKast\n"
     ]
    },
    {
     "name": "stderr",
     "output_type": "stream",
     "text": [
      "ERROR: unable to download video data: HTTP Error 403: Forbidden\n"
     ]
    },
    {
     "name": "stdout",
     "output_type": "stream",
     "text": [
      "./sound-creator/albums/billy woods/Aethiopes\n",
      "4 - Downloading Aethiopes by billy woods\n",
      "./sound-creator/albums/Raekwon/Only Built 4 Cuban Linx...\n",
      "5 - Downloading Only Built 4 Cuban Linx... by Raekwon\n",
      "fail\n",
      "./sound-creator/albums/Organized Konfusion/Stress: The Extinction Agenda\n",
      "6 - Downloading Stress: The Extinction Agenda by Organized Konfusion\n",
      "fail\n",
      "./sound-creator/albums/Travis Scott/Rodeo\n",
      "7 - Downloading Rodeo by Travis Scott\n",
      "./sound-creator/albums/Deltron 3030/Deltron 3030\n",
      "8 - Downloading Deltron 3030 by Deltron 3030\n",
      "./sound-creator/albums/Black Star/Mos Def & Talib Kweli Are Black Star\n",
      "9 - Downloading Mos Def & Talib Kweli Are Black Star by Black Star\n",
      "./sound-creator/albums/MF DOOM/Operation: Doomsday\n",
      "10 - Downloading Operation: Doomsday by MF DOOM\n",
      "fail\n",
      "./sound-creator/albums/Common/Be\n",
      "11 - Downloading Be by Common\n",
      "./sound-creator/albums/Big L/Lifestylez ov da Poor & Dangerous\n",
      "12 - Downloading Lifestylez ov da Poor & Dangerous by Big L\n"
     ]
    },
    {
     "name": "stderr",
     "output_type": "stream",
     "text": [
      "ERROR: unable to download video data: HTTP Error 403: Forbidden\n"
     ]
    },
    {
     "name": "stdout",
     "output_type": "stream",
     "text": [
      "./sound-creator/albums/Danny Brown/XXX\n",
      "13 - Downloading XXX by Danny Brown\n",
      "./sound-creator/albums/Pusha T/DAYTONA\n",
      "14 - Downloading DAYTONA by Pusha T\n",
      "./sound-creator/albums/JPEGMAFIA/Veteran\n",
      "15 - Downloading Veteran by JPEGMAFIA\n"
     ]
    },
    {
     "name": "stderr",
     "output_type": "stream",
     "text": [
      "ERROR: unable to download video data: HTTP Error 403: Forbidden\n",
      "ERROR: unable to download video data: HTTP Error 403: Forbidden\n"
     ]
    },
    {
     "name": "stdout",
     "output_type": "stream",
     "text": [
      "./sound-creator/albums/JPEGMAFIA/All My Heroes Are Cornballs\n",
      "16 - Downloading All My Heroes Are Cornballs by JPEGMAFIA\n",
      "./sound-creator/albums/Racionais MC's/Nada como um dia após o outro dia\n",
      "17 - Downloading Nada como um dia após o outro dia by Racionais MC's\n",
      "./sound-creator/albums/Clipse/Hell Hath No Fury\n",
      "18 - Downloading Hell Hath No Fury by Clipse\n",
      "./sound-creator/albums/Gravediggaz/6 Feet Deep\n",
      "19 - Downloading 6 Feet Deep by Gravediggaz\n",
      "./sound-creator/albums/Jay-Z/Reasonable Doubt\n",
      "20 - Downloading Reasonable Doubt by Jay-Z\n",
      "./sound-creator/albums/Kanye West/Graduation\n",
      "21 - Downloading Graduation by Kanye West\n",
      "./sound-creator/albums/Jay-Z/The Blueprint\n",
      "22 - Downloading The Blueprint by Jay-Z\n"
     ]
    },
    {
     "name": "stderr",
     "output_type": "stream",
     "text": [
      "ERROR: unable to download video data: HTTP Error 403: Forbidden\n"
     ]
    },
    {
     "name": "stdout",
     "output_type": "stream",
     "text": [
      "./sound-creator/albums/Digable Planets/Blowout Comb\n",
      "23 - Downloading Blowout Comb by Digable Planets\n",
      "./sound-creator/albums/billy woods &/Maps\n",
      "24 - Downloading Maps by billy woods &\n",
      "./sound-creator/albums/The Pharcyde/Bizarre Ride II the Pharcyde\n",
      "25 - Downloading Bizarre Ride II the Pharcyde by The Pharcyde\n",
      "./sound-creator/albums/Ghostface Killah/Supreme Clientele\n",
      "26 - Downloading Supreme Clientele by Ghostface Killah\n"
     ]
    },
    {
     "name": "stderr",
     "output_type": "stream",
     "text": [
      "ERROR: unable to download video data: HTTP Error 403: Forbidden\n"
     ]
    },
    {
     "name": "stdout",
     "output_type": "stream",
     "text": [
      "./sound-creator/albums/UGK/Ridin' Dirty\n",
      "27 - Downloading Ridin' Dirty by UGK\n"
     ]
    },
    {
     "name": "stderr",
     "output_type": "stream",
     "text": [
      "ERROR: unable to download video data: HTTP Error 403: Forbidden\n"
     ]
    },
    {
     "name": "stdout",
     "output_type": "stream",
     "text": [
      "./sound-creator/albums/billy woods &/Hiding Places\n",
      "28 - Downloading Hiding Places by billy woods &\n",
      "./sound-creator/albums/Tyler, the Creator/Call Me If You Get Lost\n",
      "29 - Downloading Call Me If You Get Lost by Tyler, the Creator\n",
      "./sound-creator/albums/De La Soul/Buhloone Mindstate\n",
      "30 - Downloading Buhloone Mindstate by De La Soul\n",
      "./sound-creator/albums/Ghostface Killah/Ironman\n",
      "31 - Downloading Ironman by Ghostface Killah\n"
     ]
    },
    {
     "name": "stderr",
     "output_type": "stream",
     "text": [
      "ERROR: unable to download video data: HTTP Error 403: Forbidden\n"
     ]
    },
    {
     "name": "stdout",
     "output_type": "stream",
     "text": [
      "./sound-creator/albums/Death Grips/N---as on the Moon: The Powers That B Disc 1\n",
      "32 - Downloading N---as on the Moon: The Powers That B Disc 1 by Death Grips\n",
      "fail\n",
      "./sound-creator/albums/Cannibal Ox/The Cold Vein\n",
      "33 - Downloading The Cold Vein by Cannibal Ox\n",
      "./sound-creator/albums/Farazi v Kayra/Hayalet Islığı\n",
      "34 - Downloading Hayalet Islığı by Farazi v Kayra\n",
      "./sound-creator/albums/Tiro de Gracia/Ser hümano!!\n",
      "35 - Downloading Ser hümano!! by Tiro de Gracia\n",
      "./sound-creator/albums/King Geedorah/Take Me to Your Leader\n",
      "36 - Downloading Take Me to Your Leader by King Geedorah\n"
     ]
    },
    {
     "name": "stderr",
     "output_type": "stream",
     "text": [
      "ERROR: unable to download video data: HTTP Error 403: Forbidden\n"
     ]
    },
    {
     "name": "stdout",
     "output_type": "stream",
     "text": [
      "./sound-creator/albums/Snoop Doggy Dogg/Doggystyle\n",
      "37 - Downloading Doggystyle by Snoop Doggy Dogg\n",
      "./sound-creator/albums/Kendrick Lamar/Mr. Morale & The Big Steppers\n",
      "38 - Downloading Mr. Morale & The Big Steppers by Kendrick Lamar\n",
      "./sound-creator/albums/The Horace Silver Quintet/Song for My Father (Cantiga para meu pai)\n",
      "0 - Song for My Father (Cantiga para meu pai) by The Horace Silver Quintet already exists\n",
      "./sound-creator/albums/The Jazz Composer's Orchestra/The Jazz Composer's Orchestra\n",
      "1 - Downloading The Jazz Composer's Orchestra by The Jazz Composer's Orchestra\n",
      "./sound-creator/albums/Herbie Hancock/Empyrean Isles\n",
      "2 - Downloading Empyrean Isles by Herbie Hancock\n",
      "./sound-creator/albums/Alice Coltrane/Ptah, the El Daoud\n",
      "3 - Downloading Ptah, the El Daoud by Alice Coltrane\n",
      "./sound-creator/albums/Sonny Sharrock/Ask the Ages\n",
      "4 - Downloading Ask the Ages by Sonny Sharrock\n",
      "./sound-creator/albums/Thelonious Monk Septet/Monk's Music\n",
      "5 - Downloading Monk's Music by Thelonious Monk Septet\n",
      "./sound-creator/albums/Anthony Braxton/Willisau (Quartet) 1991\n",
      "6 - Downloading Willisau (Quartet) 1991 by Anthony Braxton\n",
      "./sound-creator/albums/Ornette Coleman/Science Fiction\n",
      "7 - Downloading Science Fiction by Ornette Coleman\n",
      "./sound-creator/albums/Grant Green/Idle Moments\n",
      "8 - Downloading Idle Moments by Grant Green\n",
      "./sound-creator/albums/Lee Morgan/Search for the New Land\n",
      "9 - Downloading Search for the New Land by Lee Morgan\n",
      "./sound-creator/albums/Don Cherry/Don Cherry\n",
      "10 - Downloading Don Cherry by Don Cherry\n",
      "./sound-creator/albums/John Coltrane/Ascension [Edition II]\n",
      "11 - Downloading Ascension [Edition II] by John Coltrane\n",
      "./sound-creator/albums/McCoy Tyner/The Real McCoy\n",
      "12 - Downloading The Real McCoy by McCoy Tyner\n",
      "./sound-creator/albums/The Ornette Coleman Double Quartet/Free Jazz\n",
      "13 - Downloading Free Jazz by The Ornette Coleman Double Quartet\n",
      "./sound-creator/albums/Jorge López Ruiz/Bronca Buenos Aires\n",
      "14 - Downloading Bronca Buenos Aires by Jorge López Ruiz\n",
      "./sound-creator/albums/The Thelonious Monk Quartet/Monk's Dream\n",
      "15 - Downloading Monk's Dream by The Thelonious Monk Quartet\n",
      "./sound-creator/albums/Miles Davis/Sketches of Spain\n",
      "16 - Downloading Sketches of Spain by Miles Davis\n",
      "./sound-creator/albums/Bruno Pernadas/Those Who Throw Objects at the Crocodiles Will Be Asked to Retrieve Them\n",
      "17 - Downloading Those Who Throw Objects at the Crocodiles Will Be Asked to Retrieve Them by Bruno Pernadas\n"
     ]
    },
    {
     "name": "stderr",
     "output_type": "stream",
     "text": [
      "ERROR: unable to download video data: HTTP Error 403: Forbidden\n"
     ]
    },
    {
     "name": "stdout",
     "output_type": "stream",
     "text": [
      "./sound-creator/albums/Duke Ellington,/Money Jungle\n",
      "18 - Downloading Money Jungle by Duke Ellington,\n",
      "./sound-creator/albums/Max Roach/We Insist! Max Roach's Freedom Now Suite\n",
      "19 - Downloading We Insist! Max Roach's Freedom Now Suite by Max Roach\n",
      "./sound-creator/albums/Duke Ellington/Ellington at Newport\n",
      "20 - Downloading Ellington at Newport by Duke Ellington\n",
      "./sound-creator/albums/Matana Roberts/Coin Coin Chapter One: Gens de couleur libres\n",
      "21 - Downloading Coin Coin Chapter One: Gens de couleur libres by Matana Roberts\n",
      "fail\n",
      "./sound-creator/albums/Wayne Shorter/Juju\n",
      "22 - Downloading Juju by Wayne Shorter\n",
      "./sound-creator/albums/Herbie Hancock/Maiden Voyage\n",
      "23 - Downloading Maiden Voyage by Herbie Hancock\n",
      "./sound-creator/albums/Lee Morgan/The Sidewinder\n",
      "24 - Downloading The Sidewinder by Lee Morgan\n"
     ]
    },
    {
     "name": "stderr",
     "output_type": "stream",
     "text": [
      "ERROR: unable to download video data: HTTP Error 403: Forbidden\n"
     ]
    },
    {
     "name": "stdout",
     "output_type": "stream",
     "text": [
      "./sound-creator/albums/Thelonious Monk/Straight, No Chaser\n",
      "25 - Downloading Straight, No Chaser by Thelonious Monk\n",
      "./sound-creator/albums/Nina Simone/Little Girl Blue\n",
      "26 - Downloading Little Girl Blue by Nina Simone\n",
      "./sound-creator/albums/John Coltrane Quartet/Crescent\n",
      "27 - Downloading Crescent by John Coltrane Quartet\n",
      "./sound-creator/albums/Max Roach and His Chorus and Orchestra/It's Time\n",
      "28 - Downloading It's Time by Max Roach and His Chorus and Orchestra\n",
      "./sound-creator/albums/McCoy Tyner/Sahara\n",
      "29 - Downloading Sahara by McCoy Tyner\n",
      "./sound-creator/albums/Casiopea/Casiopea\n",
      "30 - Downloading Casiopea by Casiopea\n",
      "./sound-creator/albums/Bill Evans/You Must Believe in Spring\n",
      "31 - Downloading You Must Believe in Spring by Bill Evans\n",
      "./sound-creator/albums/The Peter Brötzmann Octet/Machine Gun\n",
      "32 - Downloading Machine Gun by The Peter Brötzmann Octet\n",
      "./sound-creator/albums/Wayne Shorter/Adam's Apple\n",
      "33 - Downloading Adam's Apple by Wayne Shorter\n",
      "./sound-creator/albums/Grachan Moncur III/Evolution\n",
      "34 - Downloading Evolution by Grachan Moncur III\n",
      "./sound-creator/albums/Billy Harper/Knowledge of Self\n",
      "35 - Downloading Knowledge of Self by Billy Harper\n",
      "./sound-creator/albums/Clifford Brown & Max Roach/Study in Brown\n",
      "36 - Downloading Study in Brown by Clifford Brown & Max Roach\n",
      "fail\n",
      "./sound-creator/albums/McCoy Tyner/Sama Layuca\n",
      "37 - Downloading Sama Layuca by McCoy Tyner\n",
      "./sound-creator/albums/Sonny Sharrock/Black Woman\n",
      "38 - Downloading Black Woman by Sonny Sharrock\n",
      "./sound-creator/albums/Thelonious Monk/Brilliant Corners\n",
      "39 - Downloading Brilliant Corners by Thelonious Monk\n",
      "./sound-creator/albums/Stevie Wonder/Fulfillingness' First Finale\n",
      "0 - Downloading Fulfillingness' First Finale by Stevie Wonder\n",
      "./sound-creator/albums/Terry Callier/What Color Is Love\n",
      "1 - What Color Is Love by Terry Callier already exists\n",
      "./sound-creator/albums/Gaelle/Transient\n",
      "2 - Downloading Transient by Gaelle\n",
      "./sound-creator/albums/Al Green/Call Me\n",
      "3 - Downloading Call Me by Al Green\n",
      "./sound-creator/albums/Aretha Franklin/Young, Gifted and Black\n",
      "4 - Downloading Young, Gifted and Black by Aretha Franklin\n",
      "./sound-creator/albums/Aretha Franklin/Spirit in the Dark\n",
      "5 - Downloading Spirit in the Dark by Aretha Franklin\n",
      "./sound-creator/albums/Prince/Dirty Mind\n",
      "6 - Downloading Dirty Mind by Prince\n",
      "./sound-creator/albums/The Isley Brothers/Go for Your Guns\n",
      "7 - Downloading Go for Your Guns by The Isley Brothers\n",
      "./sound-creator/albums/Baby Huey/The Baby Huey Story: The Living Legend\n",
      "8 - Downloading The Baby Huey Story: The Living Legend by Baby Huey\n",
      "fail\n",
      "./sound-creator/albums/Standing on the Corner/Red Burns\n",
      "9 - Downloading Red Burns by Standing on the Corner\n",
      "./sound-creator/albums/Minnie Riperton/Come to My Garden\n",
      "10 - Downloading Come to My Garden by Minnie Riperton\n",
      "./sound-creator/albums/James Carr/You Got My Mind Messed Up\n",
      "11 - Downloading You Got My Mind Messed Up by James Carr\n",
      "./sound-creator/albums/Dusty Springfield/Dusty in Memphis\n",
      "12 - Downloading Dusty in Memphis by Dusty Springfield\n",
      "./sound-creator/albums/Otis Redding/The Immortal Otis Redding\n",
      "13 - Downloading The Immortal Otis Redding by Otis Redding\n",
      "./sound-creator/albums/Etta James/Tell Mama\n",
      "14 - Downloading Tell Mama by Etta James\n",
      "./sound-creator/albums/Curtis Mayfield/Roots\n",
      "15 - Downloading Roots by Curtis Mayfield\n",
      "./sound-creator/albums/Aaliyah/Aaliyah\n",
      "16 - Downloading Aaliyah by Aaliyah\n",
      "./sound-creator/albums/Bill Withers/Just as I Am\n",
      "17 - Downloading Just as I Am by Bill Withers\n",
      "./sound-creator/albums/Millie Jackson/Caught Up\n",
      "18 - Downloading Caught Up by Millie Jackson\n",
      "./sound-creator/albums/James Brown/The Payback\n",
      "19 - Downloading The Payback by James Brown\n",
      "./sound-creator/albums/Otis Redding/Complete & Unbelievable: The Otis Redding Dictionary of Soul\n",
      "20 - Downloading Complete & Unbelievable: The Otis Redding Dictionary of Soul by Otis Redding\n",
      "fail\n",
      "./sound-creator/albums/Genesis Owusu/Smiling With No Teeth\n",
      "21 - Downloading Smiling With No Teeth by Genesis Owusu\n",
      "./sound-creator/albums/Janet Jackson/Rhythm Nation 1814\n",
      "22 - Downloading Rhythm Nation 1814 by Janet Jackson\n",
      "./sound-creator/albums/Bill Withers/Still Bill\n",
      "23 - Downloading Still Bill by Bill Withers\n",
      "./sound-creator/albums/Bobby Bland/Two Steps From the Blues\n",
      "24 - Downloading Two Steps From the Blues by Bobby Bland\n",
      "./sound-creator/albums/Sampha/Lahai\n",
      "25 - Downloading Lahai by Sampha\n",
      "./sound-creator/albums/Tim Maia/Racional vol. 1\n",
      "26 - Downloading Racional vol. 1 by Tim Maia\n",
      "./sound-creator/albums/Etta James/At Last!\n",
      "27 - Downloading At Last! by Etta James\n",
      "./sound-creator/albums/Al Green/Let's Stay Together\n",
      "28 - Downloading Let's Stay Together by Al Green\n",
      "./sound-creator/albums/Bobby Bland/Dreamer\n",
      "29 - Downloading Dreamer by Bobby Bland\n",
      "./sound-creator/albums/Marvin Gaye/Here, My Dear\n",
      "30 - Downloading Here, My Dear by Marvin Gaye\n",
      "./sound-creator/albums/SZA/Ctrl\n",
      "31 - Downloading Ctrl by SZA\n"
     ]
    },
    {
     "name": "stderr",
     "output_type": "stream",
     "text": [
      "ERROR: unable to download video data: HTTP Error 403: Forbidden\n"
     ]
    },
    {
     "name": "stdout",
     "output_type": "stream",
     "text": [
      "./sound-creator/albums/Isaac Hayes/Black Moses\n",
      "32 - Downloading Black Moses by Isaac Hayes\n",
      "./sound-creator/albums/Kanye West/808s & Heartbreak\n",
      "33 - Downloading 808s & Heartbreak by Kanye West\n"
     ]
    },
    {
     "name": "stderr",
     "output_type": "stream",
     "text": [
      "ERROR: unable to download video data: HTTP Error 403: Forbidden\n"
     ]
    },
    {
     "name": "stdout",
     "output_type": "stream",
     "text": [
      "./sound-creator/albums/Minnie Riperton/Adventures in Paradise\n",
      "34 - Downloading Adventures in Paradise by Minnie Riperton\n"
     ]
    },
    {
     "name": "stderr",
     "output_type": "stream",
     "text": [
      "ERROR: unable to download video data: HTTP Error 403: Forbidden\n"
     ]
    },
    {
     "name": "stdout",
     "output_type": "stream",
     "text": [
      "./sound-creator/albums/Lianne La Havas/Lianne La Havas\n",
      "35 - Downloading Lianne La Havas by Lianne La Havas\n",
      "./sound-creator/albums/Cassiano/Cuban Soul: 18 kilates\n",
      "36 - Downloading Cuban Soul: 18 kilates by Cassiano\n",
      "fail\n",
      "./sound-creator/albums/Sly & The Family Stone/Fresh\n",
      "37 - Downloading Fresh by Sly & The Family Stone\n",
      "./sound-creator/albums/Clarence Clarity/No Now\n",
      "38 - Downloading No Now by Clarence Clarity\n"
     ]
    },
    {
     "name": "stderr",
     "output_type": "stream",
     "text": [
      "ERROR: unable to download video data: HTTP Error 403: Forbidden\n"
     ]
    },
    {
     "name": "stdout",
     "output_type": "stream",
     "text": [
      "./sound-creator/albums/Silk Sonic/An Evening With Silk Sonic\n",
      "39 - Downloading An Evening With Silk Sonic by Silk Sonic\n",
      "./sound-creator/albums/Talk Talk/Laughing Stock\n",
      "0 - Downloading Laughing Stock by Talk Talk\n",
      "./sound-creator/albums/David Bowie/Station to Station\n",
      "1 - Downloading Station to Station by David Bowie\n",
      "./sound-creator/albums/Bob Dylan/Blonde on Blonde\n",
      "2 - Downloading Blonde on Blonde by Bob Dylan\n",
      "./sound-creator/albums/Bob Dylan/Blood on the Tracks\n",
      "3 - Downloading Blood on the Tracks by Bob Dylan\n",
      "./sound-creator/albums/Metallica/Ride the Lightning\n",
      "4 - Downloading Ride the Lightning by Metallica\n",
      "./sound-creator/albums/Black Country, New Road/Ants From Up There\n",
      "5 - Downloading Ants From Up There by Black Country, New Road\n",
      "./sound-creator/albums/Joy Division/Closer\n",
      "6 - Downloading Closer by Joy Division\n",
      "./sound-creator/albums/Nine Inch Nails/The Downward Spiral\n",
      "7 - Downloading The Downward Spiral by Nine Inch Nails\n",
      "./sound-creator/albums/The Jimi Hendrix Experience/Are You Experienced\n",
      "8 - Downloading Are You Experienced by The Jimi Hendrix Experience\n",
      "./sound-creator/albums/Death/Symbolic\n",
      "9 - Downloading Symbolic by Death\n",
      "./sound-creator/albums/Sweet Trip/Velocity : Design : Comfort\n",
      "10 - Downloading Velocity : Design : Comfort by Sweet Trip\n",
      "fail\n",
      "./sound-creator/albums/Jeff Buckley/Grace\n",
      "11 - Downloading Grace by Jeff Buckley\n",
      "./sound-creator/albums/Can/Future Days\n",
      "12 - Downloading Future Days by Can\n",
      "./sound-creator/albums/Metallica/Master of Puppets\n",
      "13 - Downloading Master of Puppets by Metallica\n",
      "./sound-creator/albums/The Velvet Underground/The Velvet Underground\n",
      "14 - Downloading The Velvet Underground by The Velvet Underground\n",
      "./sound-creator/albums/Black Sabbath/Black Sabbath\n",
      "15 - Downloading Black Sabbath by Black Sabbath\n",
      "./sound-creator/albums/The Cure/Pornography\n",
      "16 - Downloading Pornography by The Cure\n",
      "./sound-creator/albums/Swans/To Be Kind\n",
      "17 - Downloading To Be Kind by Swans\n",
      "./sound-creator/albums/Modest Mouse/The Lonesome Crowded West\n",
      "18 - Downloading The Lonesome Crowded West by Modest Mouse\n"
     ]
    },
    {
     "name": "stderr",
     "output_type": "stream",
     "text": [
      "ERROR: unable to download video data: HTTP Error 403: Forbidden\n"
     ]
    },
    {
     "name": "stdout",
     "output_type": "stream",
     "text": [
      "./sound-creator/albums/Sigur Rós/Ágætis byrjun\n",
      "19 - Downloading Ágætis byrjun by Sigur Rós\n",
      "./sound-creator/albums/Sonic Youth/Daydream Nation\n",
      "20 - Downloading Daydream Nation by Sonic Youth\n",
      "./sound-creator/albums/Can/Tago Mago\n",
      "21 - Downloading Tago Mago by Can\n",
      "./sound-creator/albums/The Strokes/Is This It\n",
      "22 - Downloading Is This It by The Strokes\n",
      "./sound-creator/albums/The Beatles/Rubber Soul\n",
      "23 - Downloading Rubber Soul by The Beatles\n",
      "./sound-creator/albums/Talk Talk/Spirit of Eden\n",
      "24 - Downloading Spirit of Eden by Talk Talk\n"
     ]
    },
    {
     "name": "stderr",
     "output_type": "stream",
     "text": [
      "ERROR: unable to download video data: HTTP Error 403: Forbidden\n"
     ]
    },
    {
     "name": "stdout",
     "output_type": "stream",
     "text": [
      "./sound-creator/albums/Fleetwood Mac/Rumours\n",
      "25 - Downloading Rumours by Fleetwood Mac\n",
      "./sound-creator/albums/George Harrison/All Things Must Pass\n",
      "26 - Downloading All Things Must Pass by George Harrison\n"
     ]
    },
    {
     "name": "stderr",
     "output_type": "stream",
     "text": [
      "ERROR: unable to download video data: HTTP Error 403: Forbidden\n"
     ]
    },
    {
     "name": "stdout",
     "output_type": "stream",
     "text": [
      "./sound-creator/albums/The Stooges/Fun House\n",
      "27 - Downloading Fun House by The Stooges\n"
     ]
    },
    {
     "name": "stderr",
     "output_type": "stream",
     "text": [
      "ERROR: unable to download video data: HTTP Error 403: Forbidden\n"
     ]
    },
    {
     "name": "stdout",
     "output_type": "stream",
     "text": [
      "./sound-creator/albums/Neil Young/After the Gold Rush\n",
      "28 - Downloading After the Gold Rush by Neil Young\n",
      "./sound-creator/albums/The Clash/London Calling\n",
      "29 - Downloading London Calling by The Clash\n",
      "./sound-creator/albums/The Velvet Underground/White Light - White Heat\n",
      "30 - Downloading White Light / White Heat by The Velvet Underground\n",
      "./sound-creator/albums/Radiohead/A Moon Shaped Pool\n",
      "31 - Downloading A Moon Shaped Pool by Radiohead\n",
      "./sound-creator/albums/Unwound/Leaves Turn Inside You\n",
      "32 - Downloading Leaves Turn Inside You by Unwound\n"
     ]
    },
    {
     "name": "stderr",
     "output_type": "stream",
     "text": [
      "ERROR: unable to download video data: HTTP Error 403: Forbidden\n"
     ]
    },
    {
     "name": "stdout",
     "output_type": "stream",
     "text": [
      "./sound-creator/albums/Neil Young //Rust Never Sleeps\n",
      "33 - Downloading Rust Never Sleeps by Neil Young /\n",
      "fail\n",
      "./sound-creator/albums/David Bowie/Hunky Dory\n",
      "34 - Downloading Hunky Dory by David Bowie\n",
      "./sound-creator/albums/Car Seat Headrest/Twin Fantasy\n",
      "35 - Downloading Twin Fantasy by Car Seat Headrest\n",
      "./sound-creator/albums/Tom Waits/Rain Dogs\n",
      "36 - Downloading Rain Dogs by Tom Waits\n",
      "./sound-creator/albums/Neil Young/On the Beach\n",
      "37 - Downloading On the Beach by Neil Young\n",
      "./sound-creator/albums/Songs: Ohia/The Magnolia Electric Co\n",
      "38 - Downloading The Magnolia Electric Co by Songs: Ohia\n",
      "fail\n",
      "./sound-creator/albums/Sweet Trip/You Will Never Know Why\n",
      "39 - Downloading You Will Never Know Why by Sweet Trip\n"
     ]
    }
   ],
   "source": [
    "from savify import Savify\n",
    "from savify.types import Type, Format, Quality\n",
    "from savify.utils import PathHolder\n",
    "import logging\n",
    "import json\n",
    "import os, shutil\n",
    "from dotenv import load_dotenv\n",
    "\n",
    "load_dotenv()  \n",
    "\n",
    "files = [f for f in os.listdir('./sound-creator') if(f.startswith('album_info2_'))]\n",
    "for filename in files:\n",
    "    genre = filename.replace('album_info2_', '').replace('.json', '')\n",
    "    with open(f'./sound-creator/{filename}', 'r') as f:\n",
    "        album_info = json.load(f)\n",
    "        for i, info in enumerate(album_info):\n",
    "            print(f'./sound-creator/albums/{info[\"artist\"]}/{info[\"title\"].replace(\"/\", \"-\")}')\n",
    "            if os.path.exists(f'./sound-creator/albums/{genre}/{info[\"artist\"]}/{info[\"title\"].replace(\"/\", \"-\")}'): \n",
    "                print(f'{i} - {info[\"title\"]} by {info[\"artist\"]} already exists')\n",
    "                # print('')\n",
    "                # shutil.copytree(f'./sound-creator/output/{info[\"artist\"]}/{info[\"title\"].replace(\"/\", \"-\")}',\n",
    "                #                 f'./sound-creator/output_genres/{genre}/{info[\"artist\"]}/{info[\"title\"].replace(\"/\", \"-\")}')\n",
    "                continue\n",
    "            try:\n",
    "                print(f'{i} - Downloading {info[\"title\"]} by {info[\"artist\"]}')\n",
    "                path = PathHolder(downloads_path=f'./sound-creator/albums/{genre}/{info[\"artist\"]}/{info[\"title\"].replace(\"/\", \"-\")}')\n",
    "                s = Savify(api_credentials=(os.getenv('SPOT_TOKEN'), os.getenv('SPOT_SECRET')), path_holder=path, logger=logging.getLogger(\"savify\"))\n",
    "                # Spotify URL\n",
    "                s.download(info['spotify_link'])\n",
    "            except:\n",
    "                print('fail')"
   ]
  },
  {
   "cell_type": "code",
   "execution_count": 2,
   "metadata": {},
   "outputs": [
    {
     "name": "stderr",
     "output_type": "stream",
     "text": [
      "c:\\Users\\luish\\miniconda3\\envs\\sound-s\\lib\\site-packages\\ipykernel_launcher.py:21: PerformanceWarning: DataFrame is highly fragmented.  This is usually the result of calling `frame.insert` many times, which has poor performance.  Consider joining all columns at once using pd.concat(axis=1) instead.  To get a de-fragmented frame, use `newframe = frame.copy()`\n"
     ]
    }
   ],
   "source": [
    "import json\n",
    "from matplotlib import pyplot as plt\n",
    "import numpy as np\n",
    "import pandas as pd\n",
    "\n",
    "albums = pd.DataFrame()\n",
    "with open('./sound-creator/album_info2.json', 'r') as f:\n",
    "    album_info = json.load(f)\n",
    "    genres = []\n",
    "    for i, info in enumerate(album_info):\n",
    "        album_info[i]['genres'] = info['primary_genre'] + info['secondary_genre']\n",
    "        del album_info[i]['primary_genre']\n",
    "        del album_info[i]['secondary_genre']\n",
    "        # del album_info[i]['descriptors']\n",
    "        del album_info[i]['spotify_link']\n",
    "        genres += album_info[i]['genres']\n",
    "    \n",
    "    genres = list(set(genres))\n",
    "    albums = pd.DataFrame(album_info)\n",
    "    for genre in genres:\n",
    "        albums[genre] = albums['genres'].apply(lambda x: genre in x)\n",
    "        albums[genre] = albums[genre].astype(int)\n",
    "    albums.drop(columns=['genres'], inplace=True)\n",
    "\n",
    "albums.index = albums['artist'] + ' - ' + albums['title']\n",
    "albums.drop(columns=['artist', 'title'], inplace=True)\n",
    "albums.to_parquet('./sound-creator/albums_classes.parquet')"
   ]
  },
  {
   "cell_type": "code",
   "execution_count": 49,
   "metadata": {},
   "outputs": [],
   "source": [
    "import pandas as pd\n",
    "import numpy as np\n",
    "import csv\n",
    "\n",
    "genres = [l.upper().split(' ') for l in list(pd.read_parquet('./sound-creator/albums_classes.parquet').columns)]\n",
    "genres = [x for xs in genres for x in xs]\n",
    "\n",
    "genres = pd.DataFrame(genres).value_counts()\n",
    "genres.to_csv('./sound-creator/genres.csv')"
   ]
  }
 ],
 "metadata": {
  "kernelspec": {
   "display_name": "venv",
   "language": "python",
   "name": "python3"
  },
  "language_info": {
   "codemirror_mode": {
    "name": "ipython",
    "version": 3
   },
   "file_extension": ".py",
   "mimetype": "text/x-python",
   "name": "python",
   "nbconvert_exporter": "python",
   "pygments_lexer": "ipython3",
   "version": "3.7.1"
  }
 },
 "nbformat": 4,
 "nbformat_minor": 2
}
